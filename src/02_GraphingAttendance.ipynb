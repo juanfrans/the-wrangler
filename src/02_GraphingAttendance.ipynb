{
 "cells": [
  {
   "cell_type": "code",
   "execution_count": 1,
   "metadata": {},
   "outputs": [],
   "source": [
    "import pandas as pd\n",
    "import numpy as np\n",
    "import altair as alt\n",
    "from os import listdir\n",
    "from os.path import isfile"
   ]
  },
  {
   "cell_type": "code",
   "execution_count": 5,
   "metadata": {},
   "outputs": [],
   "source": [
    "chartFont = 'Sometype Mono'\n",
    "dashSize = [5,4]\n",
    "fillColor = '#FF8800'"
   ]
  },
  {
   "cell_type": "code",
   "execution_count": 34,
   "metadata": {},
   "outputs": [],
   "source": [
    "counter = 0\n",
    "for f in listdir('../output/'):\n",
    "    if isfile('../output/' + f):\n",
    "        if counter == 0:\n",
    "            df = pd.read_csv('../output/' + f, parse_dates=['timestamp'])\n",
    "            # print('Creating base dataframe with', f)\n",
    "        else:\n",
    "            df = df.append(pd.read_csv('../output/' + f, parse_dates=['timestamp']), ignore_index=True)\n",
    "            # print('Appending', f, 'to main datafram...')\n",
    "        counter += 1"
   ]
  },
  {
   "cell_type": "code",
   "execution_count": 35,
   "metadata": {},
   "outputs": [
    {
     "data": {
      "text/html": [
       "<div>\n",
       "<style scoped>\n",
       "    .dataframe tbody tr th:only-of-type {\n",
       "        vertical-align: middle;\n",
       "    }\n",
       "\n",
       "    .dataframe tbody tr th {\n",
       "        vertical-align: top;\n",
       "    }\n",
       "\n",
       "    .dataframe thead th {\n",
       "        text-align: right;\n",
       "    }\n",
       "</style>\n",
       "<table border=\"1\" class=\"dataframe\">\n",
       "  <thead>\n",
       "    <tr style=\"text-align: right;\">\n",
       "      <th></th>\n",
       "      <th>timestamp</th>\n",
       "      <th>userCount</th>\n",
       "    </tr>\n",
       "  </thead>\n",
       "  <tbody>\n",
       "    <tr>\n",
       "      <th>0</th>\n",
       "      <td>2021-11-13 11:10:09.258148</td>\n",
       "      <td>116</td>\n",
       "    </tr>\n",
       "    <tr>\n",
       "      <th>1</th>\n",
       "      <td>2021-11-13 11:11:09.370031</td>\n",
       "      <td>116</td>\n",
       "    </tr>\n",
       "    <tr>\n",
       "      <th>2</th>\n",
       "      <td>2021-11-13 11:12:09.508942</td>\n",
       "      <td>115</td>\n",
       "    </tr>\n",
       "    <tr>\n",
       "      <th>3</th>\n",
       "      <td>2021-11-13 11:13:09.648818</td>\n",
       "      <td>116</td>\n",
       "    </tr>\n",
       "    <tr>\n",
       "      <th>4</th>\n",
       "      <td>2021-11-13 11:14:09.821696</td>\n",
       "      <td>116</td>\n",
       "    </tr>\n",
       "  </tbody>\n",
       "</table>\n",
       "</div>"
      ],
      "text/plain": [
       "                   timestamp  userCount\n",
       "0 2021-11-13 11:10:09.258148        116\n",
       "1 2021-11-13 11:11:09.370031        116\n",
       "2 2021-11-13 11:12:09.508942        115\n",
       "3 2021-11-13 11:13:09.648818        116\n",
       "4 2021-11-13 11:14:09.821696        116"
      ]
     },
     "execution_count": 35,
     "metadata": {},
     "output_type": "execute_result"
    }
   ],
   "source": [
    "df.head()"
   ]
  },
  {
   "cell_type": "code",
   "execution_count": 36,
   "metadata": {},
   "outputs": [
    {
     "data": {
      "text/html": [
       "\n",
       "<div id=\"altair-viz-9ef55abf354449d3a6d3d8aede20248a\"></div>\n",
       "<script type=\"text/javascript\">\n",
       "  (function(spec, embedOpt){\n",
       "    let outputDiv = document.currentScript.previousElementSibling;\n",
       "    if (outputDiv.id !== \"altair-viz-9ef55abf354449d3a6d3d8aede20248a\") {\n",
       "      outputDiv = document.getElementById(\"altair-viz-9ef55abf354449d3a6d3d8aede20248a\");\n",
       "    }\n",
       "    const paths = {\n",
       "      \"vega\": \"https://cdn.jsdelivr.net/npm//vega@5?noext\",\n",
       "      \"vega-lib\": \"https://cdn.jsdelivr.net/npm//vega-lib?noext\",\n",
       "      \"vega-lite\": \"https://cdn.jsdelivr.net/npm//vega-lite@4.8.1?noext\",\n",
       "      \"vega-embed\": \"https://cdn.jsdelivr.net/npm//vega-embed@6?noext\",\n",
       "    };\n",
       "\n",
       "    function loadScript(lib) {\n",
       "      return new Promise(function(resolve, reject) {\n",
       "        var s = document.createElement('script');\n",
       "        s.src = paths[lib];\n",
       "        s.async = true;\n",
       "        s.onload = () => resolve(paths[lib]);\n",
       "        s.onerror = () => reject(`Error loading script: ${paths[lib]}`);\n",
       "        document.getElementsByTagName(\"head\")[0].appendChild(s);\n",
       "      });\n",
       "    }\n",
       "\n",
       "    function showError(err) {\n",
       "      outputDiv.innerHTML = `<div class=\"error\" style=\"color:red;\">${err}</div>`;\n",
       "      throw err;\n",
       "    }\n",
       "\n",
       "    function displayChart(vegaEmbed) {\n",
       "      vegaEmbed(outputDiv, spec, embedOpt)\n",
       "        .catch(err => showError(`Javascript Error: ${err.message}<br>This usually means there's a typo in your chart specification. See the javascript console for the full traceback.`));\n",
       "    }\n",
       "\n",
       "    if(typeof define === \"function\" && define.amd) {\n",
       "      requirejs.config({paths});\n",
       "      require([\"vega-embed\"], displayChart, err => showError(`Error loading script: ${err.message}`));\n",
       "    } else if (typeof vegaEmbed === \"function\") {\n",
       "      displayChart(vegaEmbed);\n",
       "    } else {\n",
       "      loadScript(\"vega\")\n",
       "        .then(() => loadScript(\"vega-lite\"))\n",
       "        .then(() => loadScript(\"vega-embed\"))\n",
       "        .catch(showError)\n",
       "        .then(() => displayChart(vegaEmbed));\n",
       "    }\n",
       "  })({\"config\": {\"view\": {\"continuousWidth\": 400, \"continuousHeight\": 300, \"strokeWidth\": 0}, \"title\": {\"anchor\": \"start\", \"font\": \"Sometype Mono\", \"fontSize\": 16, \"fontWeight\": 600, \"offset\": 20, \"subtitleFont\": \"Sometype Mono\"}}, \"data\": {\"name\": \"data-0d501db107a7507246d391976901f4e8\"}, \"mark\": {\"type\": \"line\", \"color\": \"#FF8800\"}, \"encoding\": {\"x\": {\"type\": \"temporal\", \"axis\": {\"gridDash\": [5, 4], \"labelFont\": \"Sometype Mono\", \"labelPadding\": 5}, \"field\": \"timestamp\", \"title\": null}, \"y\": {\"type\": \"quantitative\", \"axis\": {\"domain\": false, \"gridDash\": [5, 4], \"labelFont\": \"Sometype Mono\", \"labelPadding\": 10, \"tickCount\": 10, \"ticks\": false, \"titleAngle\": 0, \"titleFont\": \"Sometype Mono\", \"titleX\": 40, \"titleY\": -10}, \"field\": \"userCount\", \"title\": \"Number of active users\"}}, \"height\": 400, \"title\": {\"text\": \"The Wrangler\", \"subtitle\": \"Number of active users per minute\"}, \"width\": 800, \"$schema\": \"https://vega.github.io/schema/vega-lite/v4.8.1.json\", \"datasets\": {\"data-0d501db107a7507246d391976901f4e8\": [{\"timestamp\": \"2021-11-13T11:10:09.258148\", \"userCount\": 116}, {\"timestamp\": \"2021-11-13T11:11:09.370031\", \"userCount\": 116}, {\"timestamp\": \"2021-11-13T11:12:09.508942\", \"userCount\": 115}, {\"timestamp\": \"2021-11-13T11:13:09.648818\", \"userCount\": 116}, {\"timestamp\": \"2021-11-13T11:14:09.821696\", \"userCount\": 116}, {\"timestamp\": \"2021-11-13T11:15:12.514605\", \"userCount\": 117}, {\"timestamp\": \"2021-11-13T11:16:12.658817\", \"userCount\": 118}, {\"timestamp\": \"2021-11-13T11:17:16.296520\", \"userCount\": 119}, {\"timestamp\": \"2021-11-13T11:18:16.438862\", \"userCount\": 120}, {\"timestamp\": \"2021-11-13T11:19:16.582284\", \"userCount\": 120}, {\"timestamp\": \"2021-11-13T11:20:19.367554\", \"userCount\": 121}, {\"timestamp\": \"2021-11-13T11:21:19.508210\", \"userCount\": 121}, {\"timestamp\": \"2021-11-13T11:22:19.645853\", \"userCount\": 119}, {\"timestamp\": \"2021-11-13T11:23:19.781205\", \"userCount\": 120}, {\"timestamp\": \"2021-11-13T11:24:19.917534\", \"userCount\": 124}, {\"timestamp\": \"2021-11-13T11:25:20.078084\", \"userCount\": 124}, {\"timestamp\": \"2021-11-13T11:26:20.226350\", \"userCount\": 125}, {\"timestamp\": \"2021-11-13T11:27:20.357392\", \"userCount\": 125}, {\"timestamp\": \"2021-11-13T11:28:20.485095\", \"userCount\": 125}, {\"timestamp\": \"2021-11-13T11:29:20.676395\", \"userCount\": 124}, {\"timestamp\": \"2021-11-13T11:30:20.813732\", \"userCount\": 124}, {\"timestamp\": \"2021-11-13T11:31:21.582649\", \"userCount\": 122}, {\"timestamp\": \"2021-11-13T11:32:21.720056\", \"userCount\": 123}, {\"timestamp\": \"2021-11-13T11:33:21.861486\", \"userCount\": 123}, {\"timestamp\": \"2021-11-13T11:34:22.018094\", \"userCount\": 121}, {\"timestamp\": \"2021-11-13T11:35:22.152837\", \"userCount\": 120}, {\"timestamp\": \"2021-11-13T11:36:22.310713\", \"userCount\": 119}, {\"timestamp\": \"2021-11-13T11:37:22.445532\", \"userCount\": 119}, {\"timestamp\": \"2021-11-13T11:38:22.631103\", \"userCount\": 118}, {\"timestamp\": \"2021-11-13T11:39:22.812082\", \"userCount\": 119}, {\"timestamp\": \"2021-11-13T11:40:22.991622\", \"userCount\": 122}, {\"timestamp\": \"2021-11-13T11:41:23.142896\", \"userCount\": 122}, {\"timestamp\": \"2021-11-13T11:42:23.285145\", \"userCount\": 120}, {\"timestamp\": \"2021-11-13T11:43:23.428898\", \"userCount\": 120}, {\"timestamp\": \"2021-11-13T11:44:23.573762\", \"userCount\": 122}, {\"timestamp\": \"2021-11-13T11:45:23.775800\", \"userCount\": 125}, {\"timestamp\": \"2021-11-13T11:46:24.080115\", \"userCount\": 124}, {\"timestamp\": \"2021-11-13T11:47:26.986680\", \"userCount\": 125}, {\"timestamp\": \"2021-11-13T11:48:27.317232\", \"userCount\": 125}, {\"timestamp\": \"2021-11-13T11:49:27.473726\", \"userCount\": 123}, {\"timestamp\": \"2021-11-13T11:50:27.609616\", \"userCount\": 123}, {\"timestamp\": \"2021-11-13T11:51:30.324902\", \"userCount\": 124}, {\"timestamp\": \"2021-11-13T11:52:30.486302\", \"userCount\": 121}, {\"timestamp\": \"2021-11-13T11:53:30.636610\", \"userCount\": 119}, {\"timestamp\": \"2021-11-13T11:54:33.383514\", \"userCount\": 118}, {\"timestamp\": \"2021-11-13T11:55:33.528170\", \"userCount\": 118}, {\"timestamp\": \"2021-11-13T11:56:33.846453\", \"userCount\": 116}, {\"timestamp\": \"2021-11-13T11:57:33.994823\", \"userCount\": 118}, {\"timestamp\": \"2021-11-13T11:58:34.160690\", \"userCount\": 117}, {\"timestamp\": \"2021-11-13T11:59:34.308545\", \"userCount\": 117}, {\"timestamp\": \"2021-11-13T12:00:34.639615\", \"userCount\": 117}, {\"timestamp\": \"2021-11-13T12:01:34.917382\", \"userCount\": 118}, {\"timestamp\": \"2021-11-13T12:02:35.228214\", \"userCount\": 117}, {\"timestamp\": \"2021-11-13T12:03:35.492473\", \"userCount\": 116}, {\"timestamp\": \"2021-11-13T12:04:35.810458\", \"userCount\": 115}, {\"timestamp\": \"2021-11-13T12:05:36.073042\", \"userCount\": 116}, {\"timestamp\": \"2021-11-13T12:06:36.409788\", \"userCount\": 115}, {\"timestamp\": \"2021-11-13T12:07:36.579034\", \"userCount\": 117}, {\"timestamp\": \"2021-11-13T12:08:36.714664\", \"userCount\": 118}, {\"timestamp\": \"2021-11-13T12:09:36.976583\", \"userCount\": 116}, {\"timestamp\": \"2021-11-13T12:10:37.260298\", \"userCount\": 116}, {\"timestamp\": \"2021-11-13T12:11:37.418245\", \"userCount\": 114}, {\"timestamp\": \"2021-11-13T12:12:37.735338\", \"userCount\": 116}, {\"timestamp\": \"2021-11-13T12:13:37.952675\", \"userCount\": 116}, {\"timestamp\": \"2021-11-13T12:14:38.316182\", \"userCount\": 115}, {\"timestamp\": \"2021-11-13T12:15:38.583992\", \"userCount\": 116}, {\"timestamp\": \"2021-11-13T12:16:38.906968\", \"userCount\": 115}, {\"timestamp\": \"2021-11-13T12:17:39.211828\", \"userCount\": 115}, {\"timestamp\": \"2021-11-13T12:18:42.206337\", \"userCount\": 115}, {\"timestamp\": \"2021-11-13T12:19:42.517348\", \"userCount\": 116}, {\"timestamp\": \"2021-11-13T12:20:42.713726\", \"userCount\": 116}, {\"timestamp\": \"2021-11-13T12:21:43.091328\", \"userCount\": 114}, {\"timestamp\": \"2021-11-13T12:22:43.262133\", \"userCount\": 115}, {\"timestamp\": \"2021-11-13T12:23:43.399934\", \"userCount\": 115}, {\"timestamp\": \"2021-11-13T12:24:43.552161\", \"userCount\": 115}, {\"timestamp\": \"2021-11-13T12:25:43.684968\", \"userCount\": 112}, {\"timestamp\": \"2021-11-13T12:26:43.739410\", \"userCount\": 112}, {\"timestamp\": \"2021-11-13T12:27:44.003337\", \"userCount\": 111}, {\"timestamp\": \"2021-11-13T12:28:44.133655\", \"userCount\": 110}, {\"timestamp\": \"2021-11-13T12:29:44.510210\", \"userCount\": 109}, {\"timestamp\": \"2021-11-13T12:30:44.707652\", \"userCount\": 110}, {\"timestamp\": \"2021-11-13T12:31:45.067985\", \"userCount\": 108}, {\"timestamp\": \"2021-11-13T12:32:45.303829\", \"userCount\": 108}, {\"timestamp\": \"2021-11-13T12:33:45.620432\", \"userCount\": 106}, {\"timestamp\": \"2021-11-13T12:34:48.532910\", \"userCount\": 108}, {\"timestamp\": \"2021-11-13T12:35:48.751761\", \"userCount\": 108}, {\"timestamp\": \"2021-11-13T12:36:51.854469\", \"userCount\": 107}, {\"timestamp\": \"2021-11-13T12:37:52.154411\", \"userCount\": 108}, {\"timestamp\": \"2021-11-13T12:38:52.314828\", \"userCount\": 108}, {\"timestamp\": \"2021-11-13T12:39:52.645130\", \"userCount\": 108}, {\"timestamp\": \"2021-11-13T12:40:55.505996\", \"userCount\": 108}, {\"timestamp\": \"2021-11-13T12:41:55.637812\", \"userCount\": 107}, {\"timestamp\": \"2021-11-13T12:42:55.855342\", \"userCount\": 106}, {\"timestamp\": \"2021-11-13T12:43:58.612797\", \"userCount\": 105}, {\"timestamp\": \"2021-11-13T12:44:58.962353\", \"userCount\": 103}, {\"timestamp\": \"2021-11-13T12:45:59.303766\", \"userCount\": 104}, {\"timestamp\": \"2021-11-13T12:46:59.449226\", \"userCount\": 103}, {\"timestamp\": \"2021-11-13T12:48:00.048019\", \"userCount\": 102}, {\"timestamp\": \"2021-11-13T12:49:00.195147\", \"userCount\": 93}, {\"timestamp\": \"2021-11-13T12:50:00.320282\", \"userCount\": 91}, {\"timestamp\": \"2021-11-13T12:51:00.570791\", \"userCount\": 92}, {\"timestamp\": \"2021-11-13T12:52:00.717224\", \"userCount\": 89}, {\"timestamp\": \"2021-11-13T12:53:00.862353\", \"userCount\": 90}, {\"timestamp\": \"2021-11-13T12:54:01.003654\", \"userCount\": 93}, {\"timestamp\": \"2021-11-13T12:55:01.362580\", \"userCount\": 91}, {\"timestamp\": \"2021-11-13T12:56:04.155941\", \"userCount\": 93}, {\"timestamp\": \"2021-11-13T12:57:04.282730\", \"userCount\": 92}, {\"timestamp\": \"2021-11-13T12:58:04.419671\", \"userCount\": 92}, {\"timestamp\": \"2021-11-13T12:59:04.787518\", \"userCount\": 96}, {\"timestamp\": \"2021-11-13T13:00:04.921766\", \"userCount\": 99}, {\"timestamp\": \"2021-11-13T13:01:05.098948\", \"userCount\": 102}, {\"timestamp\": \"2021-11-13T13:02:08.217685\", \"userCount\": 100}, {\"timestamp\": \"2021-11-13T13:03:09.405762\", \"userCount\": 100}, {\"timestamp\": \"2021-11-13T13:04:09.530570\", \"userCount\": 102}, {\"timestamp\": \"2021-11-13T13:05:09.679951\", \"userCount\": 104}, {\"timestamp\": \"2021-11-13T13:06:12.538668\", \"userCount\": 107}, {\"timestamp\": \"2021-11-13T13:07:16.463166\", \"userCount\": 108}, {\"timestamp\": \"2021-11-13T13:08:16.615171\", \"userCount\": 108}, {\"timestamp\": \"2021-11-13T13:09:19.913874\", \"userCount\": 111}, {\"timestamp\": \"2021-11-13T13:10:20.261087\", \"userCount\": 111}, {\"timestamp\": \"2021-11-13T13:11:23.261208\", \"userCount\": 110}, {\"timestamp\": \"2021-11-13T13:12:23.535315\", \"userCount\": 112}, {\"timestamp\": \"2021-11-13T13:13:23.678507\", \"userCount\": 110}, {\"timestamp\": \"2021-11-13T13:14:23.847738\", \"userCount\": 108}, {\"timestamp\": \"2021-11-13T13:15:24.016993\", \"userCount\": 111}, {\"timestamp\": \"2021-11-13T13:16:26.922320\", \"userCount\": 112}, {\"timestamp\": \"2021-11-13T13:17:30.143776\", \"userCount\": 113}, {\"timestamp\": \"2021-11-13T13:18:30.267650\", \"userCount\": 115}]}}, {\"mode\": \"vega-lite\"});\n",
       "</script>"
      ],
      "text/plain": [
       "alt.Chart(...)"
      ]
     },
     "execution_count": 36,
     "metadata": {},
     "output_type": "execute_result"
    }
   ],
   "source": [
    "alt.Chart(df).mark_line(color=fillColor).encode(\n",
    "    x=alt.X('timestamp:T', title=None, axis=alt.Axis(\n",
    "        labelFont=chartFont,\n",
    "        gridDash=dashSize,\n",
    "        labelPadding=5\n",
    "    )),\n",
    "    y=alt.Y('userCount:Q', title='Number of active users', axis=alt.Axis(\n",
    "        labelFont=chartFont,\n",
    "        titleFont=chartFont,\n",
    "        gridDash=dashSize,\n",
    "        tickCount=10,\n",
    "        domain=False,\n",
    "        ticks=False,\n",
    "        titleAngle=0,\n",
    "        titleY=-10,\n",
    "        titleX=40,\n",
    "        labelPadding=10\n",
    "    ))\n",
    ").properties(\n",
    "    width=800,\n",
    "    height=400,\n",
    "    title={'text':'The Wrangler',\n",
    "            'subtitle':\"Number of active users per minute\"}\n",
    ").configure_view(\n",
    "    strokeWidth=0\n",
    ").configure_title(\n",
    "    font=chartFont,\n",
    "    subtitleFont=chartFont,\n",
    "    anchor='start',\n",
    "    fontSize=16,\n",
    "    fontWeight=600,\n",
    "    offset=20,\n",
    ")"
   ]
  },
  {
   "cell_type": "code",
   "execution_count": null,
   "metadata": {},
   "outputs": [],
   "source": []
  }
 ],
 "metadata": {
  "interpreter": {
   "hash": "aee8b7b246df8f9039afb4144a1f6fd8d2ca17a180786b69acc140d282b71a49"
  },
  "kernelspec": {
   "display_name": "Python 3.9.7 64-bit",
   "language": "python",
   "name": "python3"
  },
  "language_info": {
   "codemirror_mode": {
    "name": "ipython",
    "version": 3
   },
   "file_extension": ".py",
   "mimetype": "text/x-python",
   "name": "python",
   "nbconvert_exporter": "python",
   "pygments_lexer": "ipython3",
   "version": "3.9.7"
  },
  "orig_nbformat": 4
 },
 "nbformat": 4,
 "nbformat_minor": 2
}
