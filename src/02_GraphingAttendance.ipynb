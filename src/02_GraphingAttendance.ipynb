{
 "cells": [
  {
   "cell_type": "code",
   "execution_count": 40,
   "metadata": {},
   "outputs": [],
   "source": [
    "import pandas as pd\n",
    "import numpy as np\n",
    "import altair as alt\n",
    "from os import listdir\n",
    "from os.path import isfile"
   ]
  },
  {
   "cell_type": "code",
   "execution_count": 41,
   "metadata": {},
   "outputs": [],
   "source": [
    "chartFont = 'Sometype Mono'\n",
    "dashSize = [5,4]\n",
    "fillColor = '#FF8800'"
   ]
  },
  {
   "cell_type": "code",
   "execution_count": 95,
   "metadata": {},
   "outputs": [],
   "source": [
    "counter = 0\n",
    "for f in listdir('../output/'):\n",
    "    if isfile('../output/' + f):\n",
    "        if counter == 0:\n",
    "            df = pd.read_csv('../output/' + f, parse_dates=['timestamp'])\n",
    "            # print('Creating base dataframe with', f)\n",
    "        else:\n",
    "            df = df.append(pd.read_csv('../output/' + f, parse_dates=['timestamp']), ignore_index=True)\n",
    "            # print('Appending', f, 'to main datafram...')\n",
    "        counter += 1"
   ]
  },
  {
   "cell_type": "code",
   "execution_count": 96,
   "metadata": {},
   "outputs": [
    {
     "data": {
      "text/html": [
       "<div>\n",
       "<style scoped>\n",
       "    .dataframe tbody tr th:only-of-type {\n",
       "        vertical-align: middle;\n",
       "    }\n",
       "\n",
       "    .dataframe tbody tr th {\n",
       "        vertical-align: top;\n",
       "    }\n",
       "\n",
       "    .dataframe thead th {\n",
       "        text-align: right;\n",
       "    }\n",
       "</style>\n",
       "<table border=\"1\" class=\"dataframe\">\n",
       "  <thead>\n",
       "    <tr style=\"text-align: right;\">\n",
       "      <th></th>\n",
       "      <th>timestamp</th>\n",
       "      <th>userCount</th>\n",
       "    </tr>\n",
       "  </thead>\n",
       "  <tbody>\n",
       "    <tr>\n",
       "      <th>0</th>\n",
       "      <td>2021-11-13 11:10:09.258148</td>\n",
       "      <td>116</td>\n",
       "    </tr>\n",
       "    <tr>\n",
       "      <th>1</th>\n",
       "      <td>2021-11-13 11:11:09.370031</td>\n",
       "      <td>116</td>\n",
       "    </tr>\n",
       "    <tr>\n",
       "      <th>2</th>\n",
       "      <td>2021-11-13 11:12:09.508942</td>\n",
       "      <td>115</td>\n",
       "    </tr>\n",
       "    <tr>\n",
       "      <th>3</th>\n",
       "      <td>2021-11-13 11:13:09.648818</td>\n",
       "      <td>116</td>\n",
       "    </tr>\n",
       "    <tr>\n",
       "      <th>4</th>\n",
       "      <td>2021-11-13 11:14:09.821696</td>\n",
       "      <td>116</td>\n",
       "    </tr>\n",
       "  </tbody>\n",
       "</table>\n",
       "</div>"
      ],
      "text/plain": [
       "                   timestamp  userCount\n",
       "0 2021-11-13 11:10:09.258148        116\n",
       "1 2021-11-13 11:11:09.370031        116\n",
       "2 2021-11-13 11:12:09.508942        115\n",
       "3 2021-11-13 11:13:09.648818        116\n",
       "4 2021-11-13 11:14:09.821696        116"
      ]
     },
     "execution_count": 96,
     "metadata": {},
     "output_type": "execute_result"
    }
   ],
   "source": [
    "df.head()"
   ]
  },
  {
   "cell_type": "code",
   "execution_count": 97,
   "metadata": {},
   "outputs": [
    {
     "data": {
      "text/html": [
       "\n",
       "<div id=\"altair-viz-2c10c8b3d79045b38cc6dd909c959890\"></div>\n",
       "<script type=\"text/javascript\">\n",
       "  (function(spec, embedOpt){\n",
       "    let outputDiv = document.currentScript.previousElementSibling;\n",
       "    if (outputDiv.id !== \"altair-viz-2c10c8b3d79045b38cc6dd909c959890\") {\n",
       "      outputDiv = document.getElementById(\"altair-viz-2c10c8b3d79045b38cc6dd909c959890\");\n",
       "    }\n",
       "    const paths = {\n",
       "      \"vega\": \"https://cdn.jsdelivr.net/npm//vega@5?noext\",\n",
       "      \"vega-lib\": \"https://cdn.jsdelivr.net/npm//vega-lib?noext\",\n",
       "      \"vega-lite\": \"https://cdn.jsdelivr.net/npm//vega-lite@4.8.1?noext\",\n",
       "      \"vega-embed\": \"https://cdn.jsdelivr.net/npm//vega-embed@6?noext\",\n",
       "    };\n",
       "\n",
       "    function loadScript(lib) {\n",
       "      return new Promise(function(resolve, reject) {\n",
       "        var s = document.createElement('script');\n",
       "        s.src = paths[lib];\n",
       "        s.async = true;\n",
       "        s.onload = () => resolve(paths[lib]);\n",
       "        s.onerror = () => reject(`Error loading script: ${paths[lib]}`);\n",
       "        document.getElementsByTagName(\"head\")[0].appendChild(s);\n",
       "      });\n",
       "    }\n",
       "\n",
       "    function showError(err) {\n",
       "      outputDiv.innerHTML = `<div class=\"error\" style=\"color:red;\">${err}</div>`;\n",
       "      throw err;\n",
       "    }\n",
       "\n",
       "    function displayChart(vegaEmbed) {\n",
       "      vegaEmbed(outputDiv, spec, embedOpt)\n",
       "        .catch(err => showError(`Javascript Error: ${err.message}<br>This usually means there's a typo in your chart specification. See the javascript console for the full traceback.`));\n",
       "    }\n",
       "\n",
       "    if(typeof define === \"function\" && define.amd) {\n",
       "      requirejs.config({paths});\n",
       "      require([\"vega-embed\"], displayChart, err => showError(`Error loading script: ${err.message}`));\n",
       "    } else if (typeof vegaEmbed === \"function\") {\n",
       "      displayChart(vegaEmbed);\n",
       "    } else {\n",
       "      loadScript(\"vega\")\n",
       "        .then(() => loadScript(\"vega-lite\"))\n",
       "        .then(() => loadScript(\"vega-embed\"))\n",
       "        .catch(showError)\n",
       "        .then(() => displayChart(vegaEmbed));\n",
       "    }\n",
       "  })({\"config\": {\"view\": {\"continuousWidth\": 400, \"continuousHeight\": 300, \"strokeWidth\": 0}, \"title\": {\"anchor\": \"start\", \"font\": \"Sometype Mono\", \"fontSize\": 16, \"fontWeight\": 600, \"offset\": 20, \"subtitleFont\": \"Sometype Mono\"}}, \"data\": {\"name\": \"data-9f31cf4e96018d8653864f9bf946f70c\"}, \"mark\": {\"type\": \"line\", \"color\": \"#FF8800\"}, \"encoding\": {\"x\": {\"type\": \"temporal\", \"axis\": {\"gridDash\": [5, 4], \"labelFont\": \"Sometype Mono\", \"labelPadding\": 5}, \"field\": \"timestamp\", \"title\": null}, \"y\": {\"type\": \"quantitative\", \"axis\": {\"domain\": false, \"gridDash\": [5, 4], \"labelFont\": \"Sometype Mono\", \"labelPadding\": 10, \"tickCount\": 10, \"ticks\": false, \"titleAngle\": 0, \"titleFont\": \"Sometype Mono\", \"titleX\": 40, \"titleY\": -10}, \"field\": \"userCount\", \"title\": \"Number of active users\"}}, \"height\": 400, \"title\": {\"text\": \"The Wrangler\", \"subtitle\": \"Number of active users per minute\"}, \"width\": 800, \"$schema\": \"https://vega.github.io/schema/vega-lite/v4.8.1.json\", \"datasets\": {\"data-9f31cf4e96018d8653864f9bf946f70c\": [{\"timestamp\": \"2021-11-13T11:10:09.258148\", \"userCount\": 116}, {\"timestamp\": \"2021-11-13T11:11:09.370031\", \"userCount\": 116}, {\"timestamp\": \"2021-11-13T11:12:09.508942\", \"userCount\": 115}, {\"timestamp\": \"2021-11-13T11:13:09.648818\", \"userCount\": 116}, {\"timestamp\": \"2021-11-13T11:14:09.821696\", \"userCount\": 116}, {\"timestamp\": \"2021-11-13T11:15:12.514605\", \"userCount\": 117}, {\"timestamp\": \"2021-11-13T11:16:12.658817\", \"userCount\": 118}, {\"timestamp\": \"2021-11-13T11:17:16.296520\", \"userCount\": 119}, {\"timestamp\": \"2021-11-13T11:18:16.438862\", \"userCount\": 120}, {\"timestamp\": \"2021-11-13T11:19:16.582284\", \"userCount\": 120}, {\"timestamp\": \"2021-11-13T11:20:19.367554\", \"userCount\": 121}, {\"timestamp\": \"2021-11-13T11:21:19.508210\", \"userCount\": 121}, {\"timestamp\": \"2021-11-13T11:22:19.645853\", \"userCount\": 119}, {\"timestamp\": \"2021-11-13T11:23:19.781205\", \"userCount\": 120}, {\"timestamp\": \"2021-11-13T11:24:19.917534\", \"userCount\": 124}, {\"timestamp\": \"2021-11-13T11:25:20.078084\", \"userCount\": 124}, {\"timestamp\": \"2021-11-13T11:26:20.226350\", \"userCount\": 125}, {\"timestamp\": \"2021-11-13T11:27:20.357392\", \"userCount\": 125}, {\"timestamp\": \"2021-11-13T11:28:20.485095\", \"userCount\": 125}, {\"timestamp\": \"2021-11-13T11:29:20.676395\", \"userCount\": 124}, {\"timestamp\": \"2021-11-13T11:30:20.813732\", \"userCount\": 124}, {\"timestamp\": \"2021-11-13T11:31:21.582649\", \"userCount\": 122}, {\"timestamp\": \"2021-11-13T11:32:21.720056\", \"userCount\": 123}, {\"timestamp\": \"2021-11-13T11:33:21.861486\", \"userCount\": 123}, {\"timestamp\": \"2021-11-13T11:34:22.018094\", \"userCount\": 121}, {\"timestamp\": \"2021-11-13T11:35:22.152837\", \"userCount\": 120}, {\"timestamp\": \"2021-11-13T11:36:22.310713\", \"userCount\": 119}, {\"timestamp\": \"2021-11-13T11:37:22.445532\", \"userCount\": 119}, {\"timestamp\": \"2021-11-13T11:38:22.631103\", \"userCount\": 118}, {\"timestamp\": \"2021-11-13T11:39:22.812082\", \"userCount\": 119}, {\"timestamp\": \"2021-11-13T11:40:22.991622\", \"userCount\": 122}, {\"timestamp\": \"2021-11-13T11:41:23.142896\", \"userCount\": 122}, {\"timestamp\": \"2021-11-13T11:42:23.285145\", \"userCount\": 120}, {\"timestamp\": \"2021-11-13T11:43:23.428898\", \"userCount\": 120}, {\"timestamp\": \"2021-11-13T11:44:23.573762\", \"userCount\": 122}, {\"timestamp\": \"2021-11-13T11:45:23.775800\", \"userCount\": 125}, {\"timestamp\": \"2021-11-13T11:46:24.080115\", \"userCount\": 124}, {\"timestamp\": \"2021-11-13T11:47:26.986680\", \"userCount\": 125}, {\"timestamp\": \"2021-11-13T11:48:27.317232\", \"userCount\": 125}, {\"timestamp\": \"2021-11-13T11:49:27.473726\", \"userCount\": 123}, {\"timestamp\": \"2021-11-13T11:50:27.609616\", \"userCount\": 123}, {\"timestamp\": \"2021-11-13T11:51:30.324902\", \"userCount\": 124}, {\"timestamp\": \"2021-11-13T11:52:30.486302\", \"userCount\": 121}, {\"timestamp\": \"2021-11-13T11:53:30.636610\", \"userCount\": 119}, {\"timestamp\": \"2021-11-13T11:54:33.383514\", \"userCount\": 118}, {\"timestamp\": \"2021-11-13T11:55:33.528170\", \"userCount\": 118}, {\"timestamp\": \"2021-11-13T11:56:33.846453\", \"userCount\": 116}, {\"timestamp\": \"2021-11-13T11:57:33.994823\", \"userCount\": 118}, {\"timestamp\": \"2021-11-13T11:58:34.160690\", \"userCount\": 117}, {\"timestamp\": \"2021-11-13T11:59:34.308545\", \"userCount\": 117}, {\"timestamp\": \"2021-11-13T12:00:34.639615\", \"userCount\": 117}, {\"timestamp\": \"2021-11-13T12:01:34.917382\", \"userCount\": 118}, {\"timestamp\": \"2021-11-13T12:02:35.228214\", \"userCount\": 117}, {\"timestamp\": \"2021-11-13T12:03:35.492473\", \"userCount\": 116}, {\"timestamp\": \"2021-11-13T12:04:35.810458\", \"userCount\": 115}, {\"timestamp\": \"2021-11-13T12:05:36.073042\", \"userCount\": 116}, {\"timestamp\": \"2021-11-13T12:06:36.409788\", \"userCount\": 115}, {\"timestamp\": \"2021-11-13T12:07:36.579034\", \"userCount\": 117}, {\"timestamp\": \"2021-11-13T12:08:36.714664\", \"userCount\": 118}, {\"timestamp\": \"2021-11-13T12:09:36.976583\", \"userCount\": 116}, {\"timestamp\": \"2021-11-13T12:10:37.260298\", \"userCount\": 116}, {\"timestamp\": \"2021-11-13T12:11:37.418245\", \"userCount\": 114}, {\"timestamp\": \"2021-11-13T12:12:37.735338\", \"userCount\": 116}, {\"timestamp\": \"2021-11-13T12:13:37.952675\", \"userCount\": 116}, {\"timestamp\": \"2021-11-13T12:14:38.316182\", \"userCount\": 115}, {\"timestamp\": \"2021-11-13T12:15:38.583992\", \"userCount\": 116}, {\"timestamp\": \"2021-11-13T12:16:38.906968\", \"userCount\": 115}, {\"timestamp\": \"2021-11-13T12:17:39.211828\", \"userCount\": 115}, {\"timestamp\": \"2021-11-13T12:18:42.206337\", \"userCount\": 115}, {\"timestamp\": \"2021-11-13T12:19:42.517348\", \"userCount\": 116}, {\"timestamp\": \"2021-11-13T12:20:42.713726\", \"userCount\": 116}, {\"timestamp\": \"2021-11-13T12:21:43.091328\", \"userCount\": 114}, {\"timestamp\": \"2021-11-13T12:22:43.262133\", \"userCount\": 115}, {\"timestamp\": \"2021-11-13T12:23:43.399934\", \"userCount\": 115}, {\"timestamp\": \"2021-11-13T12:24:43.552161\", \"userCount\": 115}, {\"timestamp\": \"2021-11-13T12:25:43.684968\", \"userCount\": 112}, {\"timestamp\": \"2021-11-13T12:26:43.739410\", \"userCount\": 112}, {\"timestamp\": \"2021-11-13T12:27:44.003337\", \"userCount\": 111}, {\"timestamp\": \"2021-11-13T12:28:44.133655\", \"userCount\": 110}, {\"timestamp\": \"2021-11-13T12:29:44.510210\", \"userCount\": 109}, {\"timestamp\": \"2021-11-13T12:30:44.707652\", \"userCount\": 110}, {\"timestamp\": \"2021-11-13T12:31:45.067985\", \"userCount\": 108}, {\"timestamp\": \"2021-11-13T12:32:45.303829\", \"userCount\": 108}, {\"timestamp\": \"2021-11-13T12:33:45.620432\", \"userCount\": 106}, {\"timestamp\": \"2021-11-13T12:34:48.532910\", \"userCount\": 108}, {\"timestamp\": \"2021-11-13T12:35:48.751761\", \"userCount\": 108}, {\"timestamp\": \"2021-11-13T12:36:51.854469\", \"userCount\": 107}, {\"timestamp\": \"2021-11-13T12:37:52.154411\", \"userCount\": 108}, {\"timestamp\": \"2021-11-13T12:38:52.314828\", \"userCount\": 108}, {\"timestamp\": \"2021-11-13T12:39:52.645130\", \"userCount\": 108}, {\"timestamp\": \"2021-11-13T12:40:55.505996\", \"userCount\": 108}, {\"timestamp\": \"2021-11-13T12:41:55.637812\", \"userCount\": 107}, {\"timestamp\": \"2021-11-13T12:42:55.855342\", \"userCount\": 106}, {\"timestamp\": \"2021-11-13T12:43:58.612797\", \"userCount\": 105}, {\"timestamp\": \"2021-11-13T12:44:58.962353\", \"userCount\": 103}, {\"timestamp\": \"2021-11-13T12:45:59.303766\", \"userCount\": 104}, {\"timestamp\": \"2021-11-13T12:46:59.449226\", \"userCount\": 103}, {\"timestamp\": \"2021-11-13T12:48:00.048019\", \"userCount\": 102}, {\"timestamp\": \"2021-11-13T12:49:00.195147\", \"userCount\": 93}, {\"timestamp\": \"2021-11-13T12:50:00.320282\", \"userCount\": 91}, {\"timestamp\": \"2021-11-13T12:51:00.570791\", \"userCount\": 92}, {\"timestamp\": \"2021-11-13T12:52:00.717224\", \"userCount\": 89}, {\"timestamp\": \"2021-11-13T12:53:00.862353\", \"userCount\": 90}, {\"timestamp\": \"2021-11-13T12:54:01.003654\", \"userCount\": 93}, {\"timestamp\": \"2021-11-13T12:55:01.362580\", \"userCount\": 91}, {\"timestamp\": \"2021-11-13T12:56:04.155941\", \"userCount\": 93}, {\"timestamp\": \"2021-11-13T12:57:04.282730\", \"userCount\": 92}, {\"timestamp\": \"2021-11-13T12:58:04.419671\", \"userCount\": 92}, {\"timestamp\": \"2021-11-13T12:59:04.787518\", \"userCount\": 96}, {\"timestamp\": \"2021-11-13T13:00:04.921766\", \"userCount\": 99}, {\"timestamp\": \"2021-11-13T13:01:05.098948\", \"userCount\": 102}, {\"timestamp\": \"2021-11-13T13:02:08.217685\", \"userCount\": 100}, {\"timestamp\": \"2021-11-13T13:03:09.405762\", \"userCount\": 100}, {\"timestamp\": \"2021-11-13T13:04:09.530570\", \"userCount\": 102}, {\"timestamp\": \"2021-11-13T13:05:09.679951\", \"userCount\": 104}, {\"timestamp\": \"2021-11-13T13:06:12.538668\", \"userCount\": 107}, {\"timestamp\": \"2021-11-13T13:07:16.463166\", \"userCount\": 108}, {\"timestamp\": \"2021-11-13T13:08:16.615171\", \"userCount\": 108}, {\"timestamp\": \"2021-11-13T13:09:19.913874\", \"userCount\": 111}, {\"timestamp\": \"2021-11-13T13:10:20.261087\", \"userCount\": 111}, {\"timestamp\": \"2021-11-13T13:11:23.261208\", \"userCount\": 110}, {\"timestamp\": \"2021-11-13T13:12:23.535315\", \"userCount\": 112}, {\"timestamp\": \"2021-11-13T13:13:23.678507\", \"userCount\": 110}, {\"timestamp\": \"2021-11-13T13:14:23.847738\", \"userCount\": 108}, {\"timestamp\": \"2021-11-13T13:15:24.016993\", \"userCount\": 111}, {\"timestamp\": \"2021-11-13T13:16:26.922320\", \"userCount\": 112}, {\"timestamp\": \"2021-11-13T13:17:30.143776\", \"userCount\": 113}, {\"timestamp\": \"2021-11-13T13:18:30.267650\", \"userCount\": 115}, {\"timestamp\": \"2021-11-13T13:19:30.432510\", \"userCount\": 114}, {\"timestamp\": \"2021-11-13T13:20:33.496891\", \"userCount\": 116}, {\"timestamp\": \"2021-11-13T13:21:33.702281\", \"userCount\": 115}, {\"timestamp\": \"2021-11-13T13:22:33.849578\", \"userCount\": 115}, {\"timestamp\": \"2021-11-13T13:23:34.059861\", \"userCount\": 116}, {\"timestamp\": \"2021-11-13T13:24:35.436076\", \"userCount\": 115}, {\"timestamp\": \"2021-11-13T13:25:35.682507\", \"userCount\": 116}, {\"timestamp\": \"2021-11-13T13:26:36.012407\", \"userCount\": 116}, {\"timestamp\": \"2021-11-13T13:27:36.283397\", \"userCount\": 115}, {\"timestamp\": \"2021-11-13T13:28:39.006382\", \"userCount\": 115}, {\"timestamp\": \"2021-11-13T13:29:39.176014\", \"userCount\": 112}, {\"timestamp\": \"2021-11-13T13:30:39.482074\", \"userCount\": 112}, {\"timestamp\": \"2021-11-13T13:31:39.851900\", \"userCount\": 111}, {\"timestamp\": \"2021-11-13T13:32:40.121435\", \"userCount\": 109}, {\"timestamp\": \"2021-11-13T13:33:40.524805\", \"userCount\": 110}, {\"timestamp\": \"2021-11-13T13:34:40.677176\", \"userCount\": 111}, {\"timestamp\": \"2021-11-13T13:35:41.005276\", \"userCount\": 111}, {\"timestamp\": \"2021-11-13T13:36:41.264304\", \"userCount\": 110}, {\"timestamp\": \"2021-11-13T13:37:41.592396\", \"userCount\": 110}, {\"timestamp\": \"2021-11-13T13:38:41.849042\", \"userCount\": 109}, {\"timestamp\": \"2021-11-13T13:39:42.028112\", \"userCount\": 109}, {\"timestamp\": \"2021-11-13T13:40:42.269378\", \"userCount\": 109}, {\"timestamp\": \"2021-11-13T13:41:42.445016\", \"userCount\": 109}, {\"timestamp\": \"2021-11-13T13:42:42.625224\", \"userCount\": 107}, {\"timestamp\": \"2021-11-13T13:43:42.762074\", \"userCount\": 105}, {\"timestamp\": \"2021-11-13T13:44:42.957729\", \"userCount\": 104}, {\"timestamp\": \"2021-11-13T13:45:43.342667\", \"userCount\": 103}, {\"timestamp\": \"2021-11-13T13:46:46.227596\", \"userCount\": 101}, {\"timestamp\": \"2021-11-13T13:47:46.380266\", \"userCount\": 101}, {\"timestamp\": \"2021-11-13T13:48:49.395477\", \"userCount\": 100}, {\"timestamp\": \"2021-11-13T13:49:49.568131\", \"userCount\": 99}, {\"timestamp\": \"2021-11-13T13:50:49.712392\", \"userCount\": 99}, {\"timestamp\": \"2021-11-13T13:51:49.855568\", \"userCount\": 99}, {\"timestamp\": \"2021-11-13T13:52:52.786239\", \"userCount\": 98}, {\"timestamp\": \"2021-11-13T13:53:56.075537\", \"userCount\": 96}, {\"timestamp\": \"2021-11-13T13:54:56.302426\", \"userCount\": 96}, {\"timestamp\": \"2021-11-13T13:55:56.653627\", \"userCount\": 94}, {\"timestamp\": \"2021-11-13T13:56:56.908249\", \"userCount\": 95}, {\"timestamp\": \"2021-11-13T13:57:57.083609\", \"userCount\": 94}, {\"timestamp\": \"2021-11-13T13:58:57.458473\", \"userCount\": 92}, {\"timestamp\": \"2021-11-13T13:59:57.664361\", \"userCount\": 93}, {\"timestamp\": \"2021-11-13T14:00:57.822355\", \"userCount\": 94}, {\"timestamp\": \"2021-11-13T14:02:00.523184\", \"userCount\": 94}, {\"timestamp\": \"2021-11-13T14:03:00.697431\", \"userCount\": 93}, {\"timestamp\": \"2021-11-13T14:04:00.853261\", \"userCount\": 91}, {\"timestamp\": \"2021-11-13T14:05:01.043665\", \"userCount\": 89}, {\"timestamp\": \"2021-11-13T14:06:03.141136\", \"userCount\": 89}, {\"timestamp\": \"2021-11-13T14:07:06.004633\", \"userCount\": 88}, {\"timestamp\": \"2021-11-13T14:08:06.164987\", \"userCount\": 88}, {\"timestamp\": \"2021-11-13T14:09:06.362180\", \"userCount\": 89}, {\"timestamp\": \"2021-11-13T14:10:06.518767\", \"userCount\": 88}, {\"timestamp\": \"2021-11-13T14:11:06.671060\", \"userCount\": 87}, {\"timestamp\": \"2021-11-13T14:12:06.813391\", \"userCount\": 87}, {\"timestamp\": \"2021-11-13T14:13:09.846832\", \"userCount\": 87}, {\"timestamp\": \"2021-11-13T14:14:09.998158\", \"userCount\": 87}, {\"timestamp\": \"2021-11-13T14:15:10.148384\", \"userCount\": 89}, {\"timestamp\": \"2021-11-13T14:16:10.335370\", \"userCount\": 88}, {\"timestamp\": \"2021-11-13T14:17:13.349492\", \"userCount\": 88}, {\"timestamp\": \"2021-11-13T14:18:13.511127\", \"userCount\": 85}, {\"timestamp\": \"2021-11-13T14:19:13.656885\", \"userCount\": 84}, {\"timestamp\": \"2021-11-13T14:20:16.760252\", \"userCount\": 81}, {\"timestamp\": \"2021-11-13T14:21:16.933903\", \"userCount\": 82}, {\"timestamp\": \"2021-11-13T14:22:17.083968\", \"userCount\": 81}, {\"timestamp\": \"2021-11-13T14:23:17.236192\", \"userCount\": 81}, {\"timestamp\": \"2021-11-13T14:24:17.369200\", \"userCount\": 81}, {\"timestamp\": \"2021-11-13T14:25:17.544753\", \"userCount\": 82}, {\"timestamp\": \"2021-11-13T14:26:17.687343\", \"userCount\": 81}, {\"timestamp\": \"2021-11-13T14:27:17.839922\", \"userCount\": 81}, {\"timestamp\": \"2021-11-13T14:28:17.989699\", \"userCount\": 80}, {\"timestamp\": \"2021-11-13T14:29:20.845474\", \"userCount\": 79}, {\"timestamp\": \"2021-11-13T14:30:21.000350\", \"userCount\": 80}, {\"timestamp\": \"2021-11-13T14:31:21.147892\", \"userCount\": 75}, {\"timestamp\": \"2021-11-13T14:32:21.296468\", \"userCount\": 74}, {\"timestamp\": \"2021-11-13T14:33:24.230975\", \"userCount\": 73}, {\"timestamp\": \"2021-11-13T14:34:24.402294\", \"userCount\": 72}, {\"timestamp\": \"2021-11-13T14:35:24.569020\", \"userCount\": 72}, {\"timestamp\": \"2021-11-13T14:36:24.724170\", \"userCount\": 71}, {\"timestamp\": \"2021-11-13T14:37:24.879194\", \"userCount\": 71}, {\"timestamp\": \"2021-11-13T14:38:25.030515\", \"userCount\": 71}, {\"timestamp\": \"2021-11-13T14:39:27.810383\", \"userCount\": 70}, {\"timestamp\": \"2021-11-13T14:40:27.985454\", \"userCount\": 69}, {\"timestamp\": \"2021-11-13T14:41:28.135588\", \"userCount\": 70}, {\"timestamp\": \"2021-11-13T14:42:28.917216\", \"userCount\": 69}, {\"timestamp\": \"2021-11-13T14:43:29.067596\", \"userCount\": 69}, {\"timestamp\": \"2021-11-13T14:44:29.219103\", \"userCount\": 68}, {\"timestamp\": \"2021-11-13T14:45:29.377639\", \"userCount\": 63}, {\"timestamp\": \"2021-11-13T14:46:29.508530\", \"userCount\": 62}, {\"timestamp\": \"2021-11-13T14:47:29.647809\", \"userCount\": 62}, {\"timestamp\": \"2021-11-13T14:48:29.796026\", \"userCount\": 62}, {\"timestamp\": \"2021-11-13T14:49:29.948234\", \"userCount\": 62}, {\"timestamp\": \"2021-11-13T14:50:30.100391\", \"userCount\": 56}, {\"timestamp\": \"2021-11-13T14:51:30.250995\", \"userCount\": 57}, {\"timestamp\": \"2021-11-13T14:52:30.397695\", \"userCount\": 56}, {\"timestamp\": \"2021-11-13T14:53:30.749925\", \"userCount\": 56}, {\"timestamp\": \"2021-11-13T14:54:30.908940\", \"userCount\": 60}, {\"timestamp\": \"2021-11-13T14:55:31.062230\", \"userCount\": 60}, {\"timestamp\": \"2021-11-13T14:56:31.202592\", \"userCount\": 62}, {\"timestamp\": \"2021-11-13T14:57:31.357581\", \"userCount\": 64}, {\"timestamp\": \"2021-11-13T14:58:31.501409\", \"userCount\": 64}, {\"timestamp\": \"2021-11-13T14:59:31.644302\", \"userCount\": 68}, {\"timestamp\": \"2021-11-13T15:00:31.798769\", \"userCount\": 70}, {\"timestamp\": \"2021-11-13T15:01:32.511648\", \"userCount\": 70}, {\"timestamp\": \"2021-11-13T15:02:32.661083\", \"userCount\": 71}, {\"timestamp\": \"2021-11-13T15:03:32.816583\", \"userCount\": 74}, {\"timestamp\": \"2021-11-13T15:04:35.722617\", \"userCount\": 77}, {\"timestamp\": \"2021-11-13T15:05:35.872300\", \"userCount\": 76}, {\"timestamp\": \"2021-11-13T15:06:36.112637\", \"userCount\": 76}, {\"timestamp\": \"2021-11-13T15:07:36.256348\", \"userCount\": 77}, {\"timestamp\": \"2021-11-13T15:08:36.406668\", \"userCount\": 78}, {\"timestamp\": \"2021-11-13T15:09:36.548283\", \"userCount\": 79}, {\"timestamp\": \"2021-11-13T15:10:36.702901\", \"userCount\": 79}, {\"timestamp\": \"2021-11-13T15:11:39.636829\", \"userCount\": 79}, {\"timestamp\": \"2021-11-13T15:12:39.776232\", \"userCount\": 79}, {\"timestamp\": \"2021-11-13T15:13:39.926561\", \"userCount\": 79}, {\"timestamp\": \"2021-11-13T15:14:42.725128\", \"userCount\": 78}, {\"timestamp\": \"2021-11-13T15:15:42.874947\", \"userCount\": 78}, {\"timestamp\": \"2021-11-13T15:16:43.072747\", \"userCount\": 79}, {\"timestamp\": \"2021-11-13T15:17:43.263539\", \"userCount\": 79}, {\"timestamp\": \"2021-11-13T15:18:43.488318\", \"userCount\": 79}, {\"timestamp\": \"2021-11-13T15:19:43.643340\", \"userCount\": 80}, {\"timestamp\": \"2021-11-13T15:20:43.795081\", \"userCount\": 79}, {\"timestamp\": \"2021-11-13T15:21:43.941987\", \"userCount\": 79}, {\"timestamp\": \"2021-11-13T15:22:44.110937\", \"userCount\": 81}, {\"timestamp\": \"2021-11-13T15:23:44.258025\", \"userCount\": 81}, {\"timestamp\": \"2021-11-13T15:24:44.408788\", \"userCount\": 79}, {\"timestamp\": \"2021-11-13T15:25:44.688527\", \"userCount\": 80}, {\"timestamp\": \"2021-11-13T15:26:44.832939\", \"userCount\": 80}, {\"timestamp\": \"2021-11-13T15:27:44.981367\", \"userCount\": 81}, {\"timestamp\": \"2021-11-13T15:28:45.132871\", \"userCount\": 80}, {\"timestamp\": \"2021-11-13T15:29:45.279470\", \"userCount\": 80}, {\"timestamp\": \"2021-11-13T15:30:48.124107\", \"userCount\": 80}, {\"timestamp\": \"2021-11-13T15:31:48.294831\", \"userCount\": 80}, {\"timestamp\": \"2021-11-13T15:32:48.441358\", \"userCount\": 78}, {\"timestamp\": \"2021-11-13T15:33:48.615086\", \"userCount\": 77}, {\"timestamp\": \"2021-11-13T15:34:48.788975\", \"userCount\": 78}, {\"timestamp\": \"2021-11-13T15:35:48.955500\", \"userCount\": 78}, {\"timestamp\": \"2021-11-13T15:36:49.104652\", \"userCount\": 76}, {\"timestamp\": \"2021-11-13T15:37:49.250709\", \"userCount\": 75}, {\"timestamp\": \"2021-11-13T15:38:49.415915\", \"userCount\": 74}, {\"timestamp\": \"2021-11-13T15:39:49.556539\", \"userCount\": 74}, {\"timestamp\": \"2021-11-13T15:40:49.725290\", \"userCount\": 74}, {\"timestamp\": \"2021-11-13T15:41:49.871737\", \"userCount\": 73}, {\"timestamp\": \"2021-11-13T15:42:50.033408\", \"userCount\": 73}, {\"timestamp\": \"2021-11-13T15:43:50.209482\", \"userCount\": 73}, {\"timestamp\": \"2021-11-13T15:44:50.360678\", \"userCount\": 71}, {\"timestamp\": \"2021-11-13T15:45:50.506281\", \"userCount\": 70}, {\"timestamp\": \"2021-11-13T15:46:50.653725\", \"userCount\": 70}, {\"timestamp\": \"2021-11-13T15:47:50.808547\", \"userCount\": 71}, {\"timestamp\": \"2021-11-13T15:48:50.960348\", \"userCount\": 70}, {\"timestamp\": \"2021-11-13T15:49:51.132164\", \"userCount\": 70}, {\"timestamp\": \"2021-11-13T15:50:51.328545\", \"userCount\": 71}, {\"timestamp\": \"2021-11-13T15:51:51.478741\", \"userCount\": 70}, {\"timestamp\": \"2021-11-13T15:52:51.630949\", \"userCount\": 70}, {\"timestamp\": \"2021-11-13T15:53:51.791966\", \"userCount\": 71}, {\"timestamp\": \"2021-11-13T15:54:51.944674\", \"userCount\": 68}, {\"timestamp\": \"2021-11-13T15:55:52.101919\", \"userCount\": 68}, {\"timestamp\": \"2021-11-13T15:56:52.248221\", \"userCount\": 67}, {\"timestamp\": \"2021-11-13T15:57:52.401737\", \"userCount\": 67}, {\"timestamp\": \"2021-11-13T15:58:52.547788\", \"userCount\": 68}, {\"timestamp\": \"2021-11-13T15:59:55.367095\", \"userCount\": 68}, {\"timestamp\": \"2021-11-13T16:00:55.517755\", \"userCount\": 68}, {\"timestamp\": \"2021-11-13T16:01:55.694457\", \"userCount\": 69}, {\"timestamp\": \"2021-11-13T16:02:55.841090\", \"userCount\": 69}, {\"timestamp\": \"2021-11-13T16:03:58.449138\", \"userCount\": 68}, {\"timestamp\": \"2021-11-13T16:04:58.596386\", \"userCount\": 68}, {\"timestamp\": \"2021-11-13T16:06:01.721733\", \"userCount\": 67}, {\"timestamp\": \"2021-11-13T16:07:01.895257\", \"userCount\": 67}, {\"timestamp\": \"2021-11-13T16:08:02.120132\", \"userCount\": 66}, {\"timestamp\": \"2021-11-13T16:09:02.270024\", \"userCount\": 67}, {\"timestamp\": \"2021-11-13T16:10:04.949520\", \"userCount\": 67}, {\"timestamp\": \"2021-11-13T16:11:05.120300\", \"userCount\": 67}, {\"timestamp\": \"2021-11-13T16:12:05.282916\", \"userCount\": 67}, {\"timestamp\": \"2021-11-13T16:13:05.423073\", \"userCount\": 67}, {\"timestamp\": \"2021-11-13T16:14:05.580688\", \"userCount\": 68}, {\"timestamp\": \"2021-11-13T16:15:05.748491\", \"userCount\": 67}, {\"timestamp\": \"2021-11-13T16:16:05.888224\", \"userCount\": 67}, {\"timestamp\": \"2021-11-13T16:17:06.059897\", \"userCount\": 66}, {\"timestamp\": \"2021-11-13T16:18:06.242343\", \"userCount\": 66}, {\"timestamp\": \"2021-11-13T16:19:06.398713\", \"userCount\": 66}, {\"timestamp\": \"2021-11-13T16:20:06.549681\", \"userCount\": 66}, {\"timestamp\": \"2021-11-13T16:21:06.700000\", \"userCount\": 68}, {\"timestamp\": \"2021-11-13T16:22:06.872072\", \"userCount\": 68}, {\"timestamp\": \"2021-11-13T16:23:07.022617\", \"userCount\": 68}, {\"timestamp\": \"2021-11-13T16:24:09.783879\", \"userCount\": 66}, {\"timestamp\": \"2021-11-13T16:25:09.942412\", \"userCount\": 66}, {\"timestamp\": \"2021-11-13T16:26:10.091247\", \"userCount\": 66}, {\"timestamp\": \"2021-11-13T16:27:10.251667\", \"userCount\": 65}, {\"timestamp\": \"2021-11-13T16:28:10.432184\", \"userCount\": 65}, {\"timestamp\": \"2021-11-13T16:29:13.305588\", \"userCount\": 63}, {\"timestamp\": \"2021-11-13T16:30:13.452933\", \"userCount\": 62}, {\"timestamp\": \"2021-11-13T16:31:13.754363\", \"userCount\": 62}, {\"timestamp\": \"2021-11-13T16:32:13.917672\", \"userCount\": 62}, {\"timestamp\": \"2021-11-13T16:33:14.067533\", \"userCount\": 61}, {\"timestamp\": \"2021-11-13T16:34:16.994078\", \"userCount\": 61}, {\"timestamp\": \"2021-11-13T16:35:17.168833\", \"userCount\": 59}, {\"timestamp\": \"2021-11-13T16:36:17.302878\", \"userCount\": 56}, {\"timestamp\": \"2021-11-13T16:37:17.451440\", \"userCount\": 55}, {\"timestamp\": \"2021-11-13T16:38:17.606576\", \"userCount\": 53}, {\"timestamp\": \"2021-11-13T16:39:17.759939\", \"userCount\": 54}, {\"timestamp\": \"2021-11-13T16:40:17.923491\", \"userCount\": 51}, {\"timestamp\": \"2021-11-13T16:40:17.923491\", \"userCount\": 51}, {\"timestamp\": \"2021-11-13T16:41:18.077918\", \"userCount\": 49}, {\"timestamp\": \"2021-11-13T16:42:18.228290\", \"userCount\": 42}, {\"timestamp\": \"2021-11-13T16:43:18.375801\", \"userCount\": 40}, {\"timestamp\": \"2021-11-13T16:44:18.542014\", \"userCount\": 35}, {\"timestamp\": \"2021-11-13T16:45:18.693383\", \"userCount\": 32}, {\"timestamp\": \"2021-11-13T16:46:18.841767\", \"userCount\": 28}, {\"timestamp\": \"2021-11-13T16:47:21.492391\", \"userCount\": 22}, {\"timestamp\": \"2021-11-13T16:48:21.662890\", \"userCount\": 20}, {\"timestamp\": \"2021-11-13T16:49:21.829908\", \"userCount\": 18}, {\"timestamp\": \"2021-11-13T16:50:21.985054\", \"userCount\": 16}, {\"timestamp\": \"2021-11-13T16:51:24.767323\", \"userCount\": 15}, {\"timestamp\": \"2021-11-13T16:52:24.919584\", \"userCount\": 13}, {\"timestamp\": \"2021-11-13T16:53:25.108679\", \"userCount\": 13}, {\"timestamp\": \"2021-11-13T16:54:25.248417\", \"userCount\": 13}, {\"timestamp\": \"2021-11-13T16:55:25.401222\", \"userCount\": 13}, {\"timestamp\": \"2021-11-13T16:56:25.554542\", \"userCount\": 13}, {\"timestamp\": \"2021-11-13T16:57:25.711560\", \"userCount\": 13}, {\"timestamp\": \"2021-11-13T16:58:25.866339\", \"userCount\": 11}, {\"timestamp\": \"2021-11-13T16:59:26.173098\", \"userCount\": 10}, {\"timestamp\": \"2021-11-13T17:00:26.328412\", \"userCount\": 10}, {\"timestamp\": \"2021-11-13T17:01:26.488977\", \"userCount\": 10}, {\"timestamp\": \"2021-11-13T17:02:26.644270\", \"userCount\": 10}, {\"timestamp\": \"2021-11-13T17:03:26.810342\", \"userCount\": 10}, {\"timestamp\": \"2021-11-13T17:04:26.960386\", \"userCount\": 11}, {\"timestamp\": \"2021-11-13T17:05:27.129403\", \"userCount\": 10}, {\"timestamp\": \"2021-11-13T17:06:30.109722\", \"userCount\": 10}, {\"timestamp\": \"2021-11-13T17:07:30.289866\", \"userCount\": 10}, {\"timestamp\": \"2021-11-13T17:08:32.925596\", \"userCount\": 10}, {\"timestamp\": \"2021-11-13T17:09:33.082702\", \"userCount\": 11}, {\"timestamp\": \"2021-11-13T17:10:33.262855\", \"userCount\": 11}, {\"timestamp\": \"2021-11-13T17:11:33.418617\", \"userCount\": 11}, {\"timestamp\": \"2021-11-13T17:12:33.573513\", \"userCount\": 11}, {\"timestamp\": \"2021-11-13T17:13:33.723720\", \"userCount\": 11}, {\"timestamp\": \"2021-11-13T17:14:33.887989\", \"userCount\": 11}, {\"timestamp\": \"2021-11-13T17:15:34.046334\", \"userCount\": 11}, {\"timestamp\": \"2021-11-13T17:16:34.205515\", \"userCount\": 11}, {\"timestamp\": \"2021-11-13T17:17:34.363456\", \"userCount\": 11}, {\"timestamp\": \"2021-11-13T17:18:34.522681\", \"userCount\": 11}, {\"timestamp\": \"2021-11-13T17:19:34.687910\", \"userCount\": 11}, {\"timestamp\": \"2021-11-13T17:20:34.844601\", \"userCount\": 11}, {\"timestamp\": \"2021-11-13T17:21:37.753220\", \"userCount\": 11}, {\"timestamp\": \"2021-11-13T17:22:37.919899\", \"userCount\": 11}, {\"timestamp\": \"2021-11-13T17:23:38.091544\", \"userCount\": 11}, {\"timestamp\": \"2021-11-13T17:24:38.246373\", \"userCount\": 11}, {\"timestamp\": \"2021-11-13T17:25:38.806325\", \"userCount\": 11}, {\"timestamp\": \"2021-11-13T17:26:38.962423\", \"userCount\": 11}, {\"timestamp\": \"2021-11-13T17:27:39.117735\", \"userCount\": 11}, {\"timestamp\": \"2021-11-13T17:28:39.290197\", \"userCount\": 11}, {\"timestamp\": \"2021-11-13T17:29:39.455055\", \"userCount\": 11}, {\"timestamp\": \"2021-11-13T17:30:39.621062\", \"userCount\": 11}, {\"timestamp\": \"2021-11-13T17:31:39.787476\", \"userCount\": 11}, {\"timestamp\": \"2021-11-13T17:32:39.953405\", \"userCount\": 11}, {\"timestamp\": \"2021-11-13T17:33:40.117704\", \"userCount\": 11}, {\"timestamp\": \"2021-11-13T17:34:40.287860\", \"userCount\": 11}, {\"timestamp\": \"2021-11-13T17:35:40.444132\", \"userCount\": 11}, {\"timestamp\": \"2021-11-13T17:36:40.583282\", \"userCount\": 11}, {\"timestamp\": \"2021-11-13T17:37:40.731001\", \"userCount\": 11}, {\"timestamp\": \"2021-11-13T17:38:40.871345\", \"userCount\": 11}, {\"timestamp\": \"2021-11-13T17:39:43.630672\", \"userCount\": 11}, {\"timestamp\": \"2021-11-13T17:40:43.784602\", \"userCount\": 10}, {\"timestamp\": \"2021-11-13T17:41:43.931549\", \"userCount\": 10}, {\"timestamp\": \"2021-11-13T17:42:44.076113\", \"userCount\": 10}, {\"timestamp\": \"2021-11-13T17:43:46.759811\", \"userCount\": 10}, {\"timestamp\": \"2021-11-13T17:44:46.890484\", \"userCount\": 10}, {\"timestamp\": \"2021-11-13T17:45:47.049935\", \"userCount\": 10}, {\"timestamp\": \"2021-11-13T17:46:47.207402\", \"userCount\": 10}, {\"timestamp\": \"2021-11-13T17:47:50.043603\", \"userCount\": 10}, {\"timestamp\": \"2021-11-13T17:48:50.207256\", \"userCount\": 10}, {\"timestamp\": \"2021-11-13T17:49:50.355817\", \"userCount\": 10}, {\"timestamp\": \"2021-11-13T17:50:50.502600\", \"userCount\": 10}, {\"timestamp\": \"2021-11-13T17:51:50.650337\", \"userCount\": 10}, {\"timestamp\": \"2021-11-13T17:52:50.800685\", \"userCount\": 10}]}}, {\"mode\": \"vega-lite\"});\n",
       "</script>"
      ],
      "text/plain": [
       "alt.Chart(...)"
      ]
     },
     "execution_count": 97,
     "metadata": {},
     "output_type": "execute_result"
    }
   ],
   "source": [
    "alt.Chart(df).mark_line(color=fillColor).encode(\n",
    "    x=alt.X('timestamp:T', title=None, axis=alt.Axis(\n",
    "        labelFont=chartFont,\n",
    "        gridDash=dashSize,\n",
    "        labelPadding=5\n",
    "    )),\n",
    "    y=alt.Y('userCount:Q', title='Number of active users', axis=alt.Axis(\n",
    "        labelFont=chartFont,\n",
    "        titleFont=chartFont,\n",
    "        gridDash=dashSize,\n",
    "        tickCount=10,\n",
    "        domain=False,\n",
    "        ticks=False,\n",
    "        titleAngle=0,\n",
    "        titleY=-10,\n",
    "        titleX=40,\n",
    "        labelPadding=10\n",
    "    ))\n",
    ").properties(\n",
    "    width=800,\n",
    "    height=400,\n",
    "    title={'text':'The Wrangler',\n",
    "            'subtitle':\"Number of active users per minute\"}\n",
    ").configure_view(\n",
    "    strokeWidth=0\n",
    ").configure_title(\n",
    "    font=chartFont,\n",
    "    subtitleFont=chartFont,\n",
    "    anchor='start',\n",
    "    fontSize=16,\n",
    "    fontWeight=600,\n",
    "    offset=20,\n",
    ")"
   ]
  },
  {
   "cell_type": "code",
   "execution_count": null,
   "metadata": {},
   "outputs": [],
   "source": []
  }
 ],
 "metadata": {
  "interpreter": {
   "hash": "aee8b7b246df8f9039afb4144a1f6fd8d2ca17a180786b69acc140d282b71a49"
  },
  "kernelspec": {
   "display_name": "Python 3.9.7 64-bit",
   "language": "python",
   "name": "python3"
  },
  "language_info": {
   "codemirror_mode": {
    "name": "ipython",
    "version": 3
   },
   "file_extension": ".py",
   "mimetype": "text/x-python",
   "name": "python",
   "nbconvert_exporter": "python",
   "pygments_lexer": "ipython3",
   "version": "3.9.7"
  },
  "orig_nbformat": 4
 },
 "nbformat": 4,
 "nbformat_minor": 2
}
